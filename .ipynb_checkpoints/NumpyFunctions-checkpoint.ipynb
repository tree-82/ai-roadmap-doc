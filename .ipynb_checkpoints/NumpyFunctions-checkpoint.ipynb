{
 "cells": [
  {
   "cell_type": "code",
   "execution_count": 80,
   "id": "cc2e4594-d102-4bbe-b26c-5bd4bcb4433f",
   "metadata": {},
   "outputs": [
    {
     "name": "stdout",
     "output_type": "stream",
     "text": [
      "[1 2 3 4 5 6 7 8 9]\n",
      "(9,)\n",
      "[ 2  4  6  8 10 12 14 16 18]\n",
      "[ 4  6  8 10 12 14 16 18 20]\n"
     ]
    }
   ],
   "source": [
    "import numpy as n\n",
    "numpy_array = n.arange(1,10,1)\n",
    "\n",
    "print(numpy_array)\n",
    "\n",
    "print(numpy_array.shape)\n",
    "\n",
    "numpy_array *=2\n",
    "print(numpy_array)\n",
    "\n",
    "numpy_array +=2\n",
    "print(numpy_array)"
   ]
  },
  {
   "cell_type": "code",
   "execution_count": 55,
   "id": "a8761477-bdbf-47c5-bf2e-cfedbc5e62ca",
   "metadata": {},
   "outputs": [
    {
     "data": {
      "text/plain": [
       "array([ 4.,  6.,  8., 10., 12., 14., 16., 18., 20.])"
      ]
     },
     "execution_count": 55,
     "metadata": {},
     "output_type": "execute_result"
    }
   ],
   "source": [
    "float_array = numpy_array.astype(n.float64)\n",
    "float_array"
   ]
  },
  {
   "cell_type": "code",
   "execution_count": 56,
   "id": "e0ca8026-1ded-4d54-b956-7619a1ee07dd",
   "metadata": {},
   "outputs": [
    {
     "data": {
      "text/plain": [
       "array([10.        , 10.02040816, 10.04081633, 10.06122449, 10.08163265,\n",
       "       10.10204082, 10.12244898, 10.14285714, 10.16326531, 10.18367347,\n",
       "       10.20408163, 10.2244898 , 10.24489796, 10.26530612, 10.28571429,\n",
       "       10.30612245, 10.32653061, 10.34693878, 10.36734694, 10.3877551 ,\n",
       "       10.40816327, 10.42857143, 10.44897959, 10.46938776, 10.48979592,\n",
       "       10.51020408, 10.53061224, 10.55102041, 10.57142857, 10.59183673,\n",
       "       10.6122449 , 10.63265306, 10.65306122, 10.67346939, 10.69387755,\n",
       "       10.71428571, 10.73469388, 10.75510204, 10.7755102 , 10.79591837,\n",
       "       10.81632653, 10.83673469, 10.85714286, 10.87755102, 10.89795918,\n",
       "       10.91836735, 10.93877551, 10.95918367, 10.97959184, 11.        ])"
      ]
     },
     "execution_count": 56,
     "metadata": {},
     "output_type": "execute_result"
    }
   ],
   "source": [
    "n.linspace(10,11,50)"
   ]
  },
  {
   "cell_type": "code",
   "execution_count": 57,
   "id": "ecd91368-4da3-4666-8460-7db02d97c2bb",
   "metadata": {},
   "outputs": [
    {
     "data": {
      "text/plain": [
       "array([False, False, False, False, False, False, False, False, False])"
      ]
     },
     "execution_count": 57,
     "metadata": {},
     "output_type": "execute_result"
    }
   ],
   "source": [
    "n.isnan(numpy_array)"
   ]
  },
  {
   "cell_type": "code",
   "execution_count": 58,
   "id": "01d9bbf5-2617-4fb9-83c6-fa600bf4e65b",
   "metadata": {},
   "outputs": [
    {
     "data": {
      "text/plain": [
       "array([[1, 1],\n",
       "       [1, 1],\n",
       "       [1, 1],\n",
       "       [1, 1]])"
      ]
     },
     "execution_count": 58,
     "metadata": {},
     "output_type": "execute_result"
    }
   ],
   "source": [
    "n.ones((4,2),dtype=int)"
   ]
  },
  {
   "cell_type": "code",
   "execution_count": 59,
   "id": "7dd4bd97-cf5f-41ac-b97b-dee5369dc6e9",
   "metadata": {},
   "outputs": [
    {
     "data": {
      "text/plain": [
       "array([[1., 0., 0., 0., 0., 0., 0., 0., 0., 0.],\n",
       "       [0., 1., 0., 0., 0., 0., 0., 0., 0., 0.],\n",
       "       [0., 0., 1., 0., 0., 0., 0., 0., 0., 0.],\n",
       "       [0., 0., 0., 1., 0., 0., 0., 0., 0., 0.],\n",
       "       [0., 0., 0., 0., 1., 0., 0., 0., 0., 0.],\n",
       "       [0., 0., 0., 0., 0., 1., 0., 0., 0., 0.],\n",
       "       [0., 0., 0., 0., 0., 0., 1., 0., 0., 0.],\n",
       "       [0., 0., 0., 0., 0., 0., 0., 1., 0., 0.],\n",
       "       [0., 0., 0., 0., 0., 0., 0., 0., 1., 0.],\n",
       "       [0., 0., 0., 0., 0., 0., 0., 0., 0., 1.]])"
      ]
     },
     "execution_count": 59,
     "metadata": {},
     "output_type": "execute_result"
    }
   ],
   "source": [
    "n.eye(10,dtype=float)"
   ]
  },
  {
   "cell_type": "code",
   "execution_count": 65,
   "id": "77b2081f-616f-4a7b-926b-8c8fe7eaa48b",
   "metadata": {},
   "outputs": [
    {
     "data": {
      "text/plain": [
       "array([[ 1,  2,  3,  4,  5],\n",
       "       [ 6,  7,  8,  9, 10],\n",
       "       [11, 12, 13, 14, 15],\n",
       "       [16, 17, 18, 19, 20],\n",
       "       [21, 22, 23, 24, 25]])"
      ]
     },
     "execution_count": 65,
     "metadata": {},
     "output_type": "execute_result"
    }
   ],
   "source": [
    "array_n = n.arange(1,26)\n",
    "array_m = array_n.reshape((5,5))\n",
    "array_m"
   ]
  },
  {
   "cell_type": "code",
   "execution_count": 69,
   "id": "2571b3cd-0f2a-4582-838b-f755c372d235",
   "metadata": {},
   "outputs": [
    {
     "data": {
      "text/plain": [
       "array([[0.60734321, 0.41678319],\n",
       "       [0.09579508, 0.05824492],\n",
       "       [0.10260265, 0.81618095]])"
      ]
     },
     "execution_count": 69,
     "metadata": {},
     "output_type": "execute_result"
    }
   ],
   "source": [
    "n.random.random(size =(3,2))"
   ]
  },
  {
   "cell_type": "code",
   "execution_count": 75,
   "id": "0c9637a9-5aab-42b1-952d-dbc4ae180719",
   "metadata": {},
   "outputs": [
    {
     "data": {
      "text/plain": [
       "array([[-0.97036338,  2.03647835, -2.44118279],\n",
       "       [ 0.0212921 , -0.93945735, -0.29632234],\n",
       "       [-0.75862468,  0.63103216, -1.94269511],\n",
       "       [-1.10856568,  0.27502453, -0.21593298],\n",
       "       [-0.52230801,  0.61273729,  1.10504683],\n",
       "       [ 1.93356234,  1.93387128,  0.68087319],\n",
       "       [-0.44246183,  1.01162762, -0.12715507],\n",
       "       [ 0.4152727 ,  0.15527981, -0.82112806],\n",
       "       [ 0.07933259, -0.21933981, -2.55797115]])"
      ]
     },
     "execution_count": 75,
     "metadata": {},
     "output_type": "execute_result"
    }
   ],
   "source": [
    "n.random.randn(9,3)"
   ]
  },
  {
   "cell_type": "code",
   "execution_count": 78,
   "id": "332bb8d8-b6ce-4dbd-8f03-4fbcbf0c3345",
   "metadata": {},
   "outputs": [
    {
     "data": {
      "text/plain": [
       "array([[16, 17, 18, 19, 20],\n",
       "       [21, 22, 23, 24, 25]])"
      ]
     },
     "execution_count": 78,
     "metadata": {},
     "output_type": "execute_result"
    }
   ],
   "source": [
    "array_m[3:5]"
   ]
  },
  {
   "cell_type": "code",
   "execution_count": 79,
   "id": "382f5039-9305-49e7-bc8b-7f683ae5cea2",
   "metadata": {},
   "outputs": [
    {
     "data": {
      "text/plain": [
       "array([25, 24, 23, 22, 21, 20, 19, 18, 17, 16, 15, 14, 13, 12, 11, 10,  9,\n",
       "        8,  7,  6,  5,  4,  3,  2,  1])"
      ]
     },
     "execution_count": 79,
     "metadata": {},
     "output_type": "execute_result"
    }
   ],
   "source": [
    "array_n[::-1]"
   ]
  },
  {
   "cell_type": "code",
   "execution_count": 81,
   "id": "ba7cbaa2-1f56-4930-a4c7-798f1ebc8c12",
   "metadata": {},
   "outputs": [
    {
     "data": {
      "text/plain": [
       "array([False, False, False, False, False, False, False, False, False,\n",
       "       False,  True,  True,  True,  True,  True,  True,  True,  True,\n",
       "        True,  True,  True,  True,  True,  True,  True])"
      ]
     },
     "execution_count": 81,
     "metadata": {},
     "output_type": "execute_result"
    }
   ],
   "source": [
    "array_n>10"
   ]
  },
  {
   "cell_type": "code",
   "execution_count": 82,
   "id": "ec3f5eae-cd4e-4449-927f-2c0bb345cfd9",
   "metadata": {},
   "outputs": [
    {
     "data": {
      "text/plain": [
       "array([[ 1,  2,  3,  4,  5],\n",
       "       [ 6,  7,  8,  9, 10],\n",
       "       [11, 12, 13, 14, 15],\n",
       "       [16, 17, 18, 19, 20],\n",
       "       [21, 22, 23, 24, 25]])"
      ]
     },
     "execution_count": 82,
     "metadata": {},
     "output_type": "execute_result"
    }
   ],
   "source": [
    "array_m"
   ]
  },
  {
   "cell_type": "code",
   "execution_count": 83,
   "id": "fa544eab-e733-4a09-9350-50a4e1e5cb0f",
   "metadata": {},
   "outputs": [
    {
     "data": {
      "text/plain": [
       "array([[ 1,  6, 11, 16, 21],\n",
       "       [ 2,  7, 12, 17, 22],\n",
       "       [ 3,  8, 13, 18, 23],\n",
       "       [ 4,  9, 14, 19, 24],\n",
       "       [ 5, 10, 15, 20, 25]])"
      ]
     },
     "execution_count": 83,
     "metadata": {},
     "output_type": "execute_result"
    }
   ],
   "source": [
    "array_m.T"
   ]
  },
  {
   "cell_type": "code",
   "execution_count": 85,
   "id": "8aae399d-ce19-47ba-804a-456b6af12a0b",
   "metadata": {},
   "outputs": [
    {
     "data": {
      "text/plain": [
       "25"
      ]
     },
     "execution_count": 85,
     "metadata": {},
     "output_type": "execute_result"
    }
   ],
   "source": [
    "array_n.max()"
   ]
  },
  {
   "cell_type": "code",
   "execution_count": 86,
   "id": "ba407e5c-caa6-4620-9405-25583a65b4c4",
   "metadata": {},
   "outputs": [
    {
     "data": {
      "text/plain": [
       "1"
      ]
     },
     "execution_count": 86,
     "metadata": {},
     "output_type": "execute_result"
    }
   ],
   "source": [
    "array_n.min()"
   ]
  },
  {
   "cell_type": "code",
   "execution_count": null,
   "id": "13d6559c-45a7-4ce4-b05f-96ad7c2fd551",
   "metadata": {},
   "outputs": [],
   "source": []
  }
 ],
 "metadata": {
  "kernelspec": {
   "display_name": "Python 3 (ipykernel)",
   "language": "python",
   "name": "python3"
  },
  "language_info": {
   "codemirror_mode": {
    "name": "ipython",
    "version": 3
   },
   "file_extension": ".py",
   "mimetype": "text/x-python",
   "name": "python",
   "nbconvert_exporter": "python",
   "pygments_lexer": "ipython3",
   "version": "3.12.3"
  }
 },
 "nbformat": 4,
 "nbformat_minor": 5
}
